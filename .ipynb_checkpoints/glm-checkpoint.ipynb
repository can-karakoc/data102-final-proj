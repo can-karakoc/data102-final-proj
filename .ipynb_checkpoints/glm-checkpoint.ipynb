{
 "cells": [
  {
   "cell_type": "code",
   "execution_count": 19,
   "id": "da165c94-17bc-4745-ac50-e761d4d7df20",
   "metadata": {},
   "outputs": [],
   "source": [
    "%matplotlib inline\n",
    "import matplotlib.pyplot as plt\n",
    "import numpy as np\n",
    "import pandas as pd\n",
    "import seaborn as sns\n",
    "import itertools\n",
    "import hashlib\n",
    "from scipy.stats import poisson, norm, gamma"
   ]
  },
  {
   "cell_type": "code",
   "execution_count": 20,
   "id": "27a872b6-3f10-4572-ac74-8430489996d5",
   "metadata": {},
   "outputs": [],
   "source": [
    "net_gen = pd.read_csv('cleaned_datasets/cleaned_net_gen.csv')\n",
    "weather = pd.read_csv('cleaned_datasets/cleaned_weather.csv')\n",
    "policy = pd.read_csv('cleaned_datasets/cleaned_state_political_party.csv')"
   ]
  },
  {
   "cell_type": "code",
   "execution_count": 21,
   "id": "48a4cc9f-11f3-4dcb-bcc0-90ff4e67ead0",
   "metadata": {},
   "outputs": [],
   "source": [
    "net_gen = net_gen[['state', 'total renewable production', 'total production']].rename(\n",
    "    columns={'total renewable production': 'renewable_production', 'total production': 'total_production'}\n",
    ")\n",
    "weather = weather[['state', 'avg annual temp (F)', 'avg annual sunlight (kJ/m^2)']].rename(\n",
    "    columns={'avg annual temp (F)': 'avg_temp', 'avg annual sunlight (kJ/m^2)': 'avg_sunlight'}\n",
    ")\n",
    "policy = policy[['State', 'Political Party']].rename(columns={'State': 'state', 'Political Party': 'political_leaning'})\n",
    "\n",
    "# Merge datasets on the state column\n",
    "glm_data = net_gen.merge(weather, on='state').merge(policy, on='state')\n"
   ]
  },
  {
   "cell_type": "code",
   "execution_count": 23,
   "id": "75d40bc9-b576-49c7-8523-521c6ad863dc",
   "metadata": {},
   "outputs": [
    {
     "data": {
      "text/html": [
       "<div>\n",
       "<style scoped>\n",
       "    .dataframe tbody tr th:only-of-type {\n",
       "        vertical-align: middle;\n",
       "    }\n",
       "\n",
       "    .dataframe tbody tr th {\n",
       "        vertical-align: top;\n",
       "    }\n",
       "\n",
       "    .dataframe thead th {\n",
       "        text-align: right;\n",
       "    }\n",
       "</style>\n",
       "<table border=\"1\" class=\"dataframe\">\n",
       "  <thead>\n",
       "    <tr style=\"text-align: right;\">\n",
       "      <th></th>\n",
       "      <th>state</th>\n",
       "      <th>renewable_production</th>\n",
       "      <th>total_production</th>\n",
       "      <th>avg_temp</th>\n",
       "      <th>avg_sunlight</th>\n",
       "      <th>political_leaning</th>\n",
       "    </tr>\n",
       "  </thead>\n",
       "  <tbody>\n",
       "    <tr>\n",
       "      <th>0</th>\n",
       "      <td>Alabama</td>\n",
       "      <td>15189</td>\n",
       "      <td>145705</td>\n",
       "      <td>62.8</td>\n",
       "      <td>4660.0</td>\n",
       "      <td>R</td>\n",
       "    </tr>\n",
       "    <tr>\n",
       "      <th>1</th>\n",
       "      <td>Arizona</td>\n",
       "      <td>25296</td>\n",
       "      <td>115762</td>\n",
       "      <td>60.3</td>\n",
       "      <td>5755.0</td>\n",
       "      <td>D</td>\n",
       "    </tr>\n",
       "    <tr>\n",
       "      <th>2</th>\n",
       "      <td>Arkansas</td>\n",
       "      <td>6081</td>\n",
       "      <td>66872</td>\n",
       "      <td>60.4</td>\n",
       "      <td>4725.0</td>\n",
       "      <td>R</td>\n",
       "    </tr>\n",
       "    <tr>\n",
       "      <th>3</th>\n",
       "      <td>California</td>\n",
       "      <td>150315</td>\n",
       "      <td>264883</td>\n",
       "      <td>59.4</td>\n",
       "      <td>5050.0</td>\n",
       "      <td>D</td>\n",
       "    </tr>\n",
       "    <tr>\n",
       "      <th>4</th>\n",
       "      <td>Colorado</td>\n",
       "      <td>24570</td>\n",
       "      <td>61814</td>\n",
       "      <td>45.1</td>\n",
       "      <td>4960.0</td>\n",
       "      <td>D</td>\n",
       "    </tr>\n",
       "  </tbody>\n",
       "</table>\n",
       "</div>"
      ],
      "text/plain": [
       "        state  renewable_production  total_production  avg_temp  avg_sunlight  \\\n",
       "0     Alabama                 15189            145705      62.8        4660.0   \n",
       "1     Arizona                 25296            115762      60.3        5755.0   \n",
       "2    Arkansas                  6081             66872      60.4        4725.0   \n",
       "3  California                150315            264883      59.4        5050.0   \n",
       "4    Colorado                 24570             61814      45.1        4960.0   \n",
       "\n",
       "  political_leaning  \n",
       "0                 R  \n",
       "1                 D  \n",
       "2                 R  \n",
       "3                 D  \n",
       "4                 D  "
      ]
     },
     "execution_count": 23,
     "metadata": {},
     "output_type": "execute_result"
    }
   ],
   "source": [
    "glm_data.head()"
   ]
  },
  {
   "cell_type": "code",
   "execution_count": null,
   "id": "3d2e1bd4-63b8-4461-afb9-beb2112c531b",
   "metadata": {},
   "outputs": [],
   "source": []
  }
 ],
 "metadata": {
  "kernelspec": {
   "display_name": "Python 3 (ipykernel)",
   "language": "python",
   "name": "python3"
  },
  "language_info": {
   "codemirror_mode": {
    "name": "ipython",
    "version": 3
   },
   "file_extension": ".py",
   "mimetype": "text/x-python",
   "name": "python",
   "nbconvert_exporter": "python",
   "pygments_lexer": "ipython3",
   "version": "3.10.7"
  }
 },
 "nbformat": 4,
 "nbformat_minor": 5
}
