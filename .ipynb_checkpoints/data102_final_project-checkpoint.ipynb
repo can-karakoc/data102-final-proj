{
 "cells": [
  {
   "cell_type": "markdown",
   "id": "b5436a89-ad67-4a0f-8ba1-a35904112912",
   "metadata": {},
   "source": [
    "# Data 102: Final Project\n",
    "\n",
    "by Aidana Jakulina, Can Karakoc, Geena Yin, Ira Puri"
   ]
  },
  {
   "cell_type": "code",
   "execution_count": 1,
   "id": "83465098-befe-4f85-aa5c-1dd3a33df018",
   "metadata": {},
   "outputs": [],
   "source": [
    "import pandas as pd\n",
    "import numpy as np\n",
    "import seaborn as sns"
   ]
  },
  {
   "cell_type": "code",
   "execution_count": 5,
   "id": "2907660b-b8e0-4a9e-8001-b06ac2647238",
   "metadata": {},
   "outputs": [
    {
     "data": {
      "text/html": [
       "<div>\n",
       "<style scoped>\n",
       "    .dataframe tbody tr th:only-of-type {\n",
       "        vertical-align: middle;\n",
       "    }\n",
       "\n",
       "    .dataframe tbody tr th {\n",
       "        vertical-align: top;\n",
       "    }\n",
       "\n",
       "    .dataframe thead th {\n",
       "        text-align: right;\n",
       "    }\n",
       "</style>\n",
       "<table border=\"1\" class=\"dataframe\">\n",
       "  <thead>\n",
       "    <tr style=\"text-align: right;\">\n",
       "      <th></th>\n",
       "      <th>State</th>\n",
       "      <th>POPULAR VOTE</th>\n",
       "      <th>POPULAR VOTE.1</th>\n",
       "      <th>POPULAR VOTE.2</th>\n",
       "      <th>POPULAR VOTE.3</th>\n",
       "      <th>POLITICAL AFFILIATION</th>\n",
       "    </tr>\n",
       "  </thead>\n",
       "  <tbody>\n",
       "    <tr>\n",
       "      <th>0</th>\n",
       "      <td>Alabama</td>\n",
       "      <td>Biden (D)</td>\n",
       "      <td>Trunp (R)</td>\n",
       "      <td>All Others</td>\n",
       "      <td>Total Vote</td>\n",
       "      <td>R or D</td>\n",
       "    </tr>\n",
       "    <tr>\n",
       "      <th>1</th>\n",
       "      <td>Alaska</td>\n",
       "      <td>849,624</td>\n",
       "      <td>1,441,170</td>\n",
       "      <td>32,488</td>\n",
       "      <td>2,323,282</td>\n",
       "      <td>R</td>\n",
       "    </tr>\n",
       "    <tr>\n",
       "      <th>2</th>\n",
       "      <td>Arizona</td>\n",
       "      <td>153,778</td>\n",
       "      <td>189,951</td>\n",
       "      <td>15,801</td>\n",
       "      <td>359,530</td>\n",
       "      <td>R</td>\n",
       "    </tr>\n",
       "    <tr>\n",
       "      <th>3</th>\n",
       "      <td>Arkansas</td>\n",
       "      <td>1,672,143</td>\n",
       "      <td>1,661,686</td>\n",
       "      <td>53,497</td>\n",
       "      <td>3,387,326</td>\n",
       "      <td>D</td>\n",
       "    </tr>\n",
       "    <tr>\n",
       "      <th>4</th>\n",
       "      <td>California</td>\n",
       "      <td>423,932</td>\n",
       "      <td>760,647</td>\n",
       "      <td>34,490</td>\n",
       "      <td>1,219,069</td>\n",
       "      <td>R</td>\n",
       "    </tr>\n",
       "  </tbody>\n",
       "</table>\n",
       "</div>"
      ],
      "text/plain": [
       "        State POPULAR VOTE POPULAR VOTE.1 POPULAR VOTE.2 POPULAR VOTE.3  \\\n",
       "0     Alabama    Biden (D)      Trunp (R)     All Others     Total Vote   \n",
       "1      Alaska      849,624      1,441,170         32,488      2,323,282   \n",
       "2     Arizona      153,778        189,951         15,801        359,530   \n",
       "3    Arkansas    1,672,143      1,661,686         53,497      3,387,326   \n",
       "4  California      423,932        760,647         34,490      1,219,069   \n",
       "\n",
       "  POLITICAL AFFILIATION  \n",
       "0                R or D  \n",
       "1                     R  \n",
       "2                     R  \n",
       "3                     D  \n",
       "4                     R  "
      ]
     },
     "execution_count": 5,
     "metadata": {},
     "output_type": "execute_result"
    }
   ],
   "source": [
    "data = pd.read_csv('state_political_party.csv')\n",
    "data.head()"
   ]
  },
  {
   "cell_type": "code",
   "execution_count": 6,
   "id": "94a5f1c0-0c8c-456f-82d9-d149052b6f63",
   "metadata": {},
   "outputs": [
    {
     "data": {
      "text/html": [
       "<div>\n",
       "<style scoped>\n",
       "    .dataframe tbody tr th:only-of-type {\n",
       "        vertical-align: middle;\n",
       "    }\n",
       "\n",
       "    .dataframe tbody tr th {\n",
       "        vertical-align: top;\n",
       "    }\n",
       "\n",
       "    .dataframe thead th {\n",
       "        text-align: right;\n",
       "    }\n",
       "</style>\n",
       "<table border=\"1\" class=\"dataframe\">\n",
       "  <thead>\n",
       "    <tr style=\"text-align: right;\">\n",
       "      <th></th>\n",
       "      <th>State</th>\n",
       "      <th>POPULAR VOTE</th>\n",
       "      <th>POPULAR VOTE.1</th>\n",
       "      <th>POPULAR VOTE.2</th>\n",
       "      <th>POPULAR VOTE.3</th>\n",
       "      <th>POLITICAL AFFILIATION</th>\n",
       "    </tr>\n",
       "  </thead>\n",
       "  <tbody>\n",
       "    <tr>\n",
       "      <th>count</th>\n",
       "      <td>51</td>\n",
       "      <td>51</td>\n",
       "      <td>51</td>\n",
       "      <td>51</td>\n",
       "      <td>51</td>\n",
       "      <td>51</td>\n",
       "    </tr>\n",
       "    <tr>\n",
       "      <th>unique</th>\n",
       "      <td>51</td>\n",
       "      <td>51</td>\n",
       "      <td>51</td>\n",
       "      <td>51</td>\n",
       "      <td>51</td>\n",
       "      <td>3</td>\n",
       "    </tr>\n",
       "    <tr>\n",
       "      <th>top</th>\n",
       "      <td>Alabama</td>\n",
       "      <td>Biden (D)</td>\n",
       "      <td>Trunp (R)</td>\n",
       "      <td>All Others</td>\n",
       "      <td>Total Vote</td>\n",
       "      <td>D</td>\n",
       "    </tr>\n",
       "    <tr>\n",
       "      <th>freq</th>\n",
       "      <td>1</td>\n",
       "      <td>1</td>\n",
       "      <td>1</td>\n",
       "      <td>1</td>\n",
       "      <td>1</td>\n",
       "      <td>26</td>\n",
       "    </tr>\n",
       "  </tbody>\n",
       "</table>\n",
       "</div>"
      ],
      "text/plain": [
       "          State POPULAR VOTE POPULAR VOTE.1 POPULAR VOTE.2 POPULAR VOTE.3  \\\n",
       "count        51           51             51             51             51   \n",
       "unique       51           51             51             51             51   \n",
       "top     Alabama    Biden (D)      Trunp (R)     All Others     Total Vote   \n",
       "freq          1            1              1              1              1   \n",
       "\n",
       "       POLITICAL AFFILIATION  \n",
       "count                     51  \n",
       "unique                     3  \n",
       "top                        D  \n",
       "freq                      26  "
      ]
     },
     "execution_count": 6,
     "metadata": {},
     "output_type": "execute_result"
    }
   ],
   "source": [
    "data.describe()"
   ]
  },
  {
   "cell_type": "code",
   "execution_count": 1,
   "id": "840d3d8c-7ed9-4cb4-86fd-b8a0c71e6e78",
   "metadata": {},
   "outputs": [],
   "source": [
    "#hello"
   ]
  },
  {
   "cell_type": "code",
   "execution_count": null,
   "id": "23d52367-fcd7-4a61-a095-00cff5024dca",
   "metadata": {},
   "outputs": [],
   "source": []
  }
 ],
 "metadata": {
  "kernelspec": {
   "display_name": "Python 3 (ipykernel)",
   "language": "python",
   "name": "python3"
  },
  "language_info": {
   "codemirror_mode": {
    "name": "ipython",
    "version": 3
   },
   "file_extension": ".py",
   "mimetype": "text/x-python",
   "name": "python",
   "nbconvert_exporter": "python",
   "pygments_lexer": "ipython3",
   "version": "3.11.10"
  }
 },
 "nbformat": 4,
 "nbformat_minor": 5
}
