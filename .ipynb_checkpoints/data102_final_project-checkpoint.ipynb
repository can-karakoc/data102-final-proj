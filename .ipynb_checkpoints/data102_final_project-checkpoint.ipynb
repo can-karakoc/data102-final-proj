{
 "cells": [
  {
   "cell_type": "markdown",
   "id": "b5436a89-ad67-4a0f-8ba1-a35904112912",
   "metadata": {},
   "source": [
    "# Data 102: Final Project\n",
    "\n",
    "by Aidana Jakulina, Can Karakoc, Geena Yin, Ira Puri"
   ]
  },
  {
   "cell_type": "code",
   "execution_count": 2,
   "id": "83465098-befe-4f85-aa5c-1dd3a33df018",
   "metadata": {},
   "outputs": [],
   "source": [
    "import pandas as pd\n",
    "import numpy as np\n",
    "import seaborn as sns"
   ]
  },
  {
   "cell_type": "code",
   "execution_count": null,
   "id": "2907660b-b8e0-4a9e-8001-b06ac2647238",
   "metadata": {},
   "outputs": [],
   "source": []
  }
 ],
 "metadata": {
  "kernelspec": {
   "display_name": "Python 3 (ipykernel)",
   "language": "python",
   "name": "python3"
  },
  "language_info": {
   "codemirror_mode": {
    "name": "ipython",
    "version": 3
   },
   "file_extension": ".py",
   "mimetype": "text/x-python",
   "name": "python",
   "nbconvert_exporter": "python",
   "pygments_lexer": "ipython3",
   "version": "3.10.7"
  }
 },
 "nbformat": 4,
 "nbformat_minor": 5
}
