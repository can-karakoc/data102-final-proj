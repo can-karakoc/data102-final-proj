{
 "cells": [
  {
   "cell_type": "code",
   "execution_count": 16,
   "id": "032f61cc-21e4-4f9b-98c2-a0e9f2281ae6",
   "metadata": {},
   "outputs": [],
   "source": [
    "import pandas as pd\n",
    "import numpy as np\n",
    "import seaborn as sns\n",
    "import matplotlib.pyplot as plt\n",
    "import re"
   ]
  },
  {
   "cell_type": "markdown",
   "id": "aeac1cce-9625-4161-93fa-564045ba0d92",
   "metadata": {},
   "source": [
    "## Importing and Merging Data"
   ]
  },
  {
   "cell_type": "code",
   "execution_count": 17,
   "id": "11eec0a8-104d-4f7c-88a2-0fd64ec100be",
   "metadata": {},
   "outputs": [],
   "source": [
    "electricity = pd.read_csv('../cleaned_datasets/cleaned_electricity.csv')\n",
    "emissions = pd.read_csv('../cleaned_datasets/cleaned_emissions.csv')\n",
    "net_gen = pd.read_csv('../cleaned_datasets/cleaned_net_gen.csv')\n",
    "urbanization = pd.read_csv('../cleaned_datasets/cleaned_urbanization.csv')\n",
    "weather = pd.read_csv('../cleaned_datasets/cleaned_weather.csv')\n",
    "plants = pd.read_csv('../cleaned_datasets/cleaned_plants.csv')\n",
    "state_size = pd.read_csv('../cleaned_datasets/cleaned_statesizes.csv')\n",
    "consumption = pd.read_csv('../cleaned_datasets/cleaned_consumption.csv')\n",
    "policy = pd.read_csv('../cleaned_datasets/cleaned_us_state_policies_incentives.csv')"
   ]
  },
  {
   "cell_type": "markdown",
   "id": "1e3a44b0-16f1-483b-ab18-8143871b73fe",
   "metadata": {},
   "source": [
    "Policies are indentives, we took into account the number of times a state was mentioned having a renewable energy program or incentive."
   ]
  },
  {
   "cell_type": "code",
   "execution_count": 18,
   "id": "fbf0895a-731e-4c8a-aa61-f5c5157ec331",
   "metadata": {},
   "outputs": [
    {
     "data": {
      "text/html": [
       "<div>\n",
       "<style scoped>\n",
       "    .dataframe tbody tr th:only-of-type {\n",
       "        vertical-align: middle;\n",
       "    }\n",
       "\n",
       "    .dataframe tbody tr th {\n",
       "        vertical-align: top;\n",
       "    }\n",
       "\n",
       "    .dataframe thead th {\n",
       "        text-align: right;\n",
       "    }\n",
       "</style>\n",
       "<table border=\"1\" class=\"dataframe\">\n",
       "  <thead>\n",
       "    <tr style=\"text-align: right;\">\n",
       "      <th></th>\n",
       "      <th>State</th>\n",
       "      <th>Count</th>\n",
       "    </tr>\n",
       "  </thead>\n",
       "  <tbody>\n",
       "    <tr>\n",
       "      <th>0</th>\n",
       "      <td>Alabama</td>\n",
       "      <td>65</td>\n",
       "    </tr>\n",
       "    <tr>\n",
       "      <th>1</th>\n",
       "      <td>Alaska</td>\n",
       "      <td>33</td>\n",
       "    </tr>\n",
       "    <tr>\n",
       "      <th>2</th>\n",
       "      <td>Arizona</td>\n",
       "      <td>107</td>\n",
       "    </tr>\n",
       "    <tr>\n",
       "      <th>3</th>\n",
       "      <td>Arkansas</td>\n",
       "      <td>60</td>\n",
       "    </tr>\n",
       "    <tr>\n",
       "      <th>4</th>\n",
       "      <td>California</td>\n",
       "      <td>378</td>\n",
       "    </tr>\n",
       "  </tbody>\n",
       "</table>\n",
       "</div>"
      ],
      "text/plain": [
       "        State  Count\n",
       "0     Alabama     65\n",
       "1      Alaska     33\n",
       "2     Arizona    107\n",
       "3    Arkansas     60\n",
       "4  California    378"
      ]
     },
     "execution_count": 18,
     "metadata": {},
     "output_type": "execute_result"
    }
   ],
   "source": [
    "policy_counts = policy.groupby(['State']).size().reset_index(name='Count')\n",
    "policy_counts.head()"
   ]
  },
  {
   "cell_type": "code",
   "execution_count": 19,
   "id": "05bcfb2a-6846-4f27-8edc-c0c4f8c96b43",
   "metadata": {},
   "outputs": [],
   "source": [
    "net_gen = net_gen.rename(columns={'state':'State'})\n",
    "weather = weather.rename(columns={'state':'State'})\n",
    "state_size = state_size.rename(columns={'Unnamed: 0':'State'})\n",
    "consumption = consumption.rename(columns={'state':'State'})"
   ]
  },
  {
   "cell_type": "code",
   "execution_count": 20,
   "id": "0c9b0dfa-6e1f-4364-80e2-67348c45dfa7",
   "metadata": {},
   "outputs": [
    {
     "data": {
      "text/html": [
       "<div>\n",
       "<style scoped>\n",
       "    .dataframe tbody tr th:only-of-type {\n",
       "        vertical-align: middle;\n",
       "    }\n",
       "\n",
       "    .dataframe tbody tr th {\n",
       "        vertical-align: top;\n",
       "    }\n",
       "\n",
       "    .dataframe thead th {\n",
       "        text-align: right;\n",
       "    }\n",
       "</style>\n",
       "<table border=\"1\" class=\"dataframe\">\n",
       "  <thead>\n",
       "    <tr style=\"text-align: right;\">\n",
       "      <th></th>\n",
       "      <th>State</th>\n",
       "      <th>Electricity Price (cents/kWh)</th>\n",
       "      <th>CO2 (lb/MWh)</th>\n",
       "      <th>renew prod (1000MWh)</th>\n",
       "      <th>nonrenew prod (1000MWh)</th>\n",
       "      <th>production (1000MWh)</th>\n",
       "      <th>Urban Population</th>\n",
       "      <th>Urban Population (%)</th>\n",
       "      <th>avg annual temp (F)</th>\n",
       "      <th>avg annual precip (in)</th>\n",
       "      <th>avg annual sunlight (kJ/m^2)</th>\n",
       "      <th>num_plants</th>\n",
       "      <th>num_renewable</th>\n",
       "      <th>num_nonrenewable</th>\n",
       "      <th>total area (mile^2)</th>\n",
       "      <th>water percentage</th>\n",
       "      <th>total consumption</th>\n",
       "      <th>Renewable Policies</th>\n",
       "    </tr>\n",
       "  </thead>\n",
       "  <tbody>\n",
       "    <tr>\n",
       "      <th>0</th>\n",
       "      <td>Maine</td>\n",
       "      <td>17.44</td>\n",
       "      <td>336.612</td>\n",
       "      <td>8794</td>\n",
       "      <td>4736</td>\n",
       "      <td>13530</td>\n",
       "      <td>526309.0</td>\n",
       "      <td>38.6</td>\n",
       "      <td>41.0</td>\n",
       "      <td>45.5</td>\n",
       "      <td>3815.0</td>\n",
       "      <td>196</td>\n",
       "      <td>170</td>\n",
       "      <td>26</td>\n",
       "      <td>35,380</td>\n",
       "      <td>12.80%</td>\n",
       "      <td>35399</td>\n",
       "      <td>57</td>\n",
       "    </tr>\n",
       "    <tr>\n",
       "      <th>1</th>\n",
       "      <td>Massachusetts</td>\n",
       "      <td>21.27</td>\n",
       "      <td>851.739</td>\n",
       "      <td>8917</td>\n",
       "      <td>17462</td>\n",
       "      <td>26379</td>\n",
       "      <td>6416895.0</td>\n",
       "      <td>91.3</td>\n",
       "      <td>47.9</td>\n",
       "      <td>48.6</td>\n",
       "      <td>3944.0</td>\n",
       "      <td>632</td>\n",
       "      <td>555</td>\n",
       "      <td>78</td>\n",
       "      <td>10,554</td>\n",
       "      <td>26.10%</td>\n",
       "      <td>131292</td>\n",
       "      <td>193</td>\n",
       "    </tr>\n",
       "    <tr>\n",
       "      <th>2</th>\n",
       "      <td>New Hampshire</td>\n",
       "      <td>21.07</td>\n",
       "      <td>302.928</td>\n",
       "      <td>2784</td>\n",
       "      <td>16224</td>\n",
       "      <td>19008</td>\n",
       "      <td>803420.0</td>\n",
       "      <td>58.3</td>\n",
       "      <td>43.8</td>\n",
       "      <td>47.9</td>\n",
       "      <td>3891.0</td>\n",
       "      <td>60</td>\n",
       "      <td>38</td>\n",
       "      <td>22</td>\n",
       "      <td>9,349</td>\n",
       "      <td>4.20%</td>\n",
       "      <td>33311</td>\n",
       "      <td>76</td>\n",
       "    </tr>\n",
       "    <tr>\n",
       "      <th>3</th>\n",
       "      <td>Rhode Island</td>\n",
       "      <td>19.30</td>\n",
       "      <td>811.317</td>\n",
       "      <td>1684</td>\n",
       "      <td>7023</td>\n",
       "      <td>8707</td>\n",
       "      <td>999191.0</td>\n",
       "      <td>91.1</td>\n",
       "      <td>50.1</td>\n",
       "      <td>49.1</td>\n",
       "      <td>3989.0</td>\n",
       "      <td>100</td>\n",
       "      <td>86</td>\n",
       "      <td>14</td>\n",
       "      <td>1,545</td>\n",
       "      <td>33.10%</td>\n",
       "      <td>53421</td>\n",
       "      <td>61</td>\n",
       "    </tr>\n",
       "    <tr>\n",
       "      <th>4</th>\n",
       "      <td>Vermont</td>\n",
       "      <td>16.99</td>\n",
       "      <td>35.627</td>\n",
       "      <td>2589</td>\n",
       "      <td>9</td>\n",
       "      <td>2598</td>\n",
       "      <td>225850.0</td>\n",
       "      <td>35.1</td>\n",
       "      <td>42.9</td>\n",
       "      <td>46.0</td>\n",
       "      <td>3826.0</td>\n",
       "      <td>118</td>\n",
       "      <td>105</td>\n",
       "      <td>13</td>\n",
       "      <td>9,616</td>\n",
       "      <td>4.20%</td>\n",
       "      <td>113</td>\n",
       "      <td>116</td>\n",
       "    </tr>\n",
       "  </tbody>\n",
       "</table>\n",
       "</div>"
      ],
      "text/plain": [
       "           State  Electricity Price (cents/kWh)  CO2 (lb/MWh)  \\\n",
       "0          Maine                          17.44       336.612   \n",
       "1  Massachusetts                          21.27       851.739   \n",
       "2  New Hampshire                          21.07       302.928   \n",
       "3   Rhode Island                          19.30       811.317   \n",
       "4        Vermont                          16.99        35.627   \n",
       "\n",
       "   renew prod (1000MWh)  nonrenew prod (1000MWh)  production (1000MWh)  \\\n",
       "0                  8794                     4736                 13530   \n",
       "1                  8917                    17462                 26379   \n",
       "2                  2784                    16224                 19008   \n",
       "3                  1684                     7023                  8707   \n",
       "4                  2589                        9                  2598   \n",
       "\n",
       "   Urban Population  Urban Population (%)  avg annual temp (F)  \\\n",
       "0          526309.0                  38.6                 41.0   \n",
       "1         6416895.0                  91.3                 47.9   \n",
       "2          803420.0                  58.3                 43.8   \n",
       "3          999191.0                  91.1                 50.1   \n",
       "4          225850.0                  35.1                 42.9   \n",
       "\n",
       "   avg annual precip (in)  avg annual sunlight (kJ/m^2)  num_plants  \\\n",
       "0                    45.5                        3815.0         196   \n",
       "1                    48.6                        3944.0         632   \n",
       "2                    47.9                        3891.0          60   \n",
       "3                    49.1                        3989.0         100   \n",
       "4                    46.0                        3826.0         118   \n",
       "\n",
       "   num_renewable  num_nonrenewable total area (mile^2) water percentage  \\\n",
       "0            170                26              35,380           12.80%   \n",
       "1            555                78              10,554           26.10%   \n",
       "2             38                22               9,349            4.20%   \n",
       "3             86                14               1,545           33.10%   \n",
       "4            105                13               9,616            4.20%   \n",
       "\n",
       "   total consumption  Renewable Policies  \n",
       "0              35399                  57  \n",
       "1             131292                 193  \n",
       "2              33311                  76  \n",
       "3              53421                  61  \n",
       "4                113                 116  "
      ]
     },
     "execution_count": 20,
     "metadata": {},
     "output_type": "execute_result"
    }
   ],
   "source": [
    "total = pd.merge(electricity, emissions, on='State').drop(columns=[' Year', '2023'])\n",
    "total = pd.merge(total, net_gen, on='State')\n",
    "total = pd.merge(total, urbanization, on='State')\n",
    "total = pd.merge(total, weather, on='State')\n",
    "total = pd.merge(total, plants, on='State')\n",
    "total = pd.merge(total, state_size, on='State')\n",
    "total = pd.merge(total, consumption, on='State')\n",
    "total = pd.merge(total, policy_counts, on='State')\n",
    "\n",
    "\n",
    "total = total.rename(columns={\n",
    "    '2022': 'Electricity Price (cents/kWh)',\n",
    "    'Emissions': 'CO2 (lb/MWh)',\n",
    "    'total renewable production': 'renew prod (1000MWh)',\n",
    "    'total nonrenewable production': 'nonrenew prod (1000MWh)',\n",
    "    'total production': 'production (1000MWh)',\n",
    "    'total area in sq miles': 'total area (mile^2)',\n",
    "    'Count': 'Renewable Policies'\n",
    "})\n",
    "total.head()"
   ]
  },
  {
   "cell_type": "code",
   "execution_count": 21,
   "id": "aed2d281-3b5a-4266-8d75-df8e25776082",
   "metadata": {},
   "outputs": [],
   "source": [
    "total.to_csv('total_data.csv', index=False)"
   ]
  },
  {
   "cell_type": "code",
   "execution_count": 22,
   "id": "6c62c594-4338-486e-9b7c-cbc52e970d8a",
   "metadata": {},
   "outputs": [
    {
     "data": {
      "image/png": "[encoded data removed]",
      "text/plain": [
       "<Figure size 1500x600 with 2 Axes>"
      ]
     },
     "metadata": {},
     "output_type": "display_data"
    },
    {
     "data": {
      "text/plain": [
       "<Figure size 640x480 with 0 Axes>"
      ]
     },
     "metadata": {},
     "output_type": "display_data"
    }
   ],
   "source": [
    "fig, axes = plt.subplots(1, 2, figsize=(15, 6))\n",
    "\n",
    "sns.histplot(total['Electricity Price (cents/kWh)'], stat='density', bins=30, ax=axes[0], \n",
    "             color='mediumblue', edgecolor='darkblue')\n",
    "axes[0].set_title('Average Annual Retail Price of Electricity by State in 2022 (Treatment)')\n",
    "axes[0].set_xlabel('Price (cents for kilowatthour)')\n",
    "\n",
    "sns.histplot(total['CO2 (lb/MWh)'], stat='density', bins=30, ax=axes[1], \n",
    "             color='darkorange', edgecolor='saddlebrown')\n",
    "axes[1].set_title('Total Output Emission Rate by State in 2022 (Outcome)')\n",
    "axes[1].set_xlabel('Emission Rate (lb/MWh)')\n",
    "\n",
    "plt.show();\n",
    "plt.savefig(\"../causal_inference/distribution-treatment-outcome.png\");"
   ]
  },
  {
   "cell_type": "code",
   "execution_count": 23,
   "id": "b382567d-310e-4bcc-8017-075baf268c2e",
   "metadata": {},
   "outputs": [
    {
     "data": {
      "image/png": "[encoded data removed]",
      "text/plain": [
       "<Figure size 640x480 with 1 Axes>"
      ]
     },
     "metadata": {},
     "output_type": "display_data"
    }
   ],
   "source": [
    "plt.scatter(x=total['Electricity Price (cents/kWh)'], y=total['CO2 (lb/MWh)']);"
   ]
  },
  {
   "cell_type": "markdown",
   "id": "10498865-6960-49ef-ba55-f0fbba38c373",
   "metadata": {},
   "source": [
    "# Pair-wise Plots between Outcome, Treatment, and Confounders"
   ]
  },
  {
   "cell_type": "markdown",
   "id": "cd5986db-a1ab-45e4-91cd-5bdf99658e97",
   "metadata": {},
   "source": [
    "## Categorize Confounders ##"
   ]
  },
  {
   "cell_type": "markdown",
   "id": "e2b2a4f1-755a-44be-bd86-b3688229601d",
   "metadata": {},
   "source": [
    "- **Geographical**\n",
    "  - Size of the State (acres)\n",
    "  - [Farmland covarege in the State (acres)]\n",
    "  - State Population\n",
    "  - Percent of Urbanized Population\n",
    "  - Water Percentage\n",
    "- **Weather**\n",
    "  - Average Annual Temperature ($F$)\n",
    "  - Average Annual Precipitation ($in$)\n",
    "  - Average Annual Sunlight Exposure ($kJ/m^2$)\n",
    "  - [HDD/CDD]\n",
    "- **Usage**\n",
    "  - Consumption of Electricity by State\n",
    "  - Production of Electricity by State (thousand $MWh$)\n",
    "    - Renewable Sources\n",
    "    - Non-renawble Sources\n",
    "  - [Fuel Price]\n",
    "  - Number of Power Plants\n",
    "- **Policy**\n",
    "  - 2020 Election Results (Presidential)\n",
    "  - Number of Renewable Energy Policies & Incentives per State"
   ]
  },
  {
   "cell_type": "markdown",
   "id": "ed9335b7-c31c-4022-aad3-16f65e67436c",
   "metadata": {},
   "source": [
    "## Geographical"
   ]
  },
  {
   "cell_type": "code",
   "execution_count": 24,
   "id": "fa51f50a-f75a-4d58-9d0a-85e8a0e0dd8e",
   "metadata": {},
   "outputs": [
    {
     "data": {
      "text/html": [
       "<div>\n",
       "<style scoped>\n",
       "    .dataframe tbody tr th:only-of-type {\n",
       "        vertical-align: middle;\n",
       "    }\n",
       "\n",
       "    .dataframe tbody tr th {\n",
       "        vertical-align: top;\n",
       "    }\n",
       "\n",
       "    .dataframe thead th {\n",
       "        text-align: right;\n",
       "    }\n",
       "</style>\n",
       "<table border=\"1\" class=\"dataframe\">\n",
       "  <thead>\n",
       "    <tr style=\"text-align: right;\">\n",
       "      <th></th>\n",
       "      <th>State</th>\n",
       "      <th>Electricity Price (cents/kWh)</th>\n",
       "      <th>CO2 (lb/MWh)</th>\n",
       "      <th>Urban Population</th>\n",
       "      <th>Urban Population (%)</th>\n",
       "      <th>total area (mile^2)</th>\n",
       "      <th>water percentage</th>\n",
       "    </tr>\n",
       "  </thead>\n",
       "  <tbody>\n",
       "    <tr>\n",
       "      <th>0</th>\n",
       "      <td>Maine</td>\n",
       "      <td>17.44</td>\n",
       "      <td>336.612</td>\n",
       "      <td>526309.0</td>\n",
       "      <td>38.6</td>\n",
       "      <td>35,380</td>\n",
       "      <td>12.80%</td>\n",
       "    </tr>\n",
       "    <tr>\n",
       "      <th>1</th>\n",
       "      <td>Massachusetts</td>\n",
       "      <td>21.27</td>\n",
       "      <td>851.739</td>\n",
       "      <td>6416895.0</td>\n",
       "      <td>91.3</td>\n",
       "      <td>10,554</td>\n",
       "      <td>26.10%</td>\n",
       "    </tr>\n",
       "    <tr>\n",
       "      <th>2</th>\n",
       "      <td>New Hampshire</td>\n",
       "      <td>21.07</td>\n",
       "      <td>302.928</td>\n",
       "      <td>803420.0</td>\n",
       "      <td>58.3</td>\n",
       "      <td>9,349</td>\n",
       "      <td>4.20%</td>\n",
       "    </tr>\n",
       "    <tr>\n",
       "      <th>3</th>\n",
       "      <td>Rhode Island</td>\n",
       "      <td>19.30</td>\n",
       "      <td>811.317</td>\n",
       "      <td>999191.0</td>\n",
       "      <td>91.1</td>\n",
       "      <td>1,545</td>\n",
       "      <td>33.10%</td>\n",
       "    </tr>\n",
       "    <tr>\n",
       "      <th>4</th>\n",
       "      <td>Vermont</td>\n",
       "      <td>16.99</td>\n",
       "      <td>35.627</td>\n",
       "      <td>225850.0</td>\n",
       "      <td>35.1</td>\n",
       "      <td>9,616</td>\n",
       "      <td>4.20%</td>\n",
       "    </tr>\n",
       "  </tbody>\n",
       "</table>\n",
       "</div>"
      ],
      "text/plain": [
       "           State  Electricity Price (cents/kWh)  CO2 (lb/MWh)  \\\n",
       "0          Maine                          17.44       336.612   \n",
       "1  Massachusetts                          21.27       851.739   \n",
       "2  New Hampshire                          21.07       302.928   \n",
       "3   Rhode Island                          19.30       811.317   \n",
       "4        Vermont                          16.99        35.627   \n",
       "\n",
       "   Urban Population  Urban Population (%) total area (mile^2) water percentage  \n",
       "0          526309.0                  38.6              35,380           12.80%  \n",
       "1         6416895.0                  91.3              10,554           26.10%  \n",
       "2          803420.0                  58.3               9,349            4.20%  \n",
       "3          999191.0                  91.1               1,545           33.10%  \n",
       "4          225850.0                  35.1               9,616            4.20%  "
      ]
     },
     "execution_count": 24,
     "metadata": {},
     "output_type": "execute_result"
    }
   ],
   "source": [
    "total.iloc[:, list(range(0, 3)) + list(range(6, 8)) + list(range(14, 16))].head()"
   ]
  },
  {
   "cell_type": "code",
   "execution_count": null,
   "id": "37c6a094-0402-42c0-87a3-9501d5ab60f4",
   "metadata": {},
   "outputs": [],
   "source": [
    "g = sns.pairplot(total.iloc[:, list(range(0, 3)) + list(range(6, 8)) + list(range(14, 16))], diag_kind='hist', \n",
    "             kind='reg', plot_kws={'line_kws': {'color': 'cornflowerblue', 'linewidth': 2, 'alpha': 0.7}})\n",
    "g.fig.suptitle('Pairwise Relations between Treatment, Outcome, and Geographical Confounders', size=16)\n",
    "g.fig.tight_layout()\n",
    "g.fig.subplots_adjust(top=0.95)\n",
    "plt.show()\n",
    "g.fig.savefig(\"../causal_inference/pairwise-geographical.png\");"
   ]
  },
  {
   "cell_type": "markdown",
   "id": "c2f1c117-9023-484e-ba2c-ee488c79c772",
   "metadata": {},
   "source": [
    "## Weather"
   ]
  },
  {
   "cell_type": "code",
   "execution_count": null,
   "id": "72a0d9bd-bc94-4956-92fd-3fe90c683b10",
   "metadata": {},
   "outputs": [],
   "source": [
    "total.iloc[:, list(range(0, 3)) + list(range(8, 11))].head()"
   ]
  },
  {
   "cell_type": "code",
   "execution_count": null,
   "id": "463415bb-e7cb-4e5c-ad24-158b23122b2d",
   "metadata": {},
   "outputs": [],
   "source": [
    "g = sns.pairplot(total.iloc[:, list(range(0, 3)) + list(range(8, 11))], diag_kind='hist', \n",
    "             kind='reg', plot_kws={'line_kws': {'color': 'cornflowerblue', 'linewidth': 2, 'alpha': 0.7}})\n",
    "g.fig.suptitle('Pairwise Relations between Treatment, Outcome, and Weather Confounders', size=16)\n",
    "g.fig.tight_layout()\n",
    "g.fig.subplots_adjust(top=0.95)\n",
    "plt.show()\n",
    "g.fig.savefig(\"../causal_inference/pairwise-weather.png\");"
   ]
  },
  {
   "cell_type": "markdown",
   "id": "29abe827-c2c7-4c52-b6f7-c21b070d9458",
   "metadata": {},
   "source": [
    "## Usage"
   ]
  },
  {
   "cell_type": "code",
   "execution_count": null,
   "id": "927b5fe9-2cf3-4ae2-ada3-081ec8ae77f0",
   "metadata": {},
   "outputs": [],
   "source": [
    "total.columns"
   ]
  },
  {
   "cell_type": "code",
   "execution_count": null,
   "id": "765e7600-d23a-4457-b29c-8797dc30fdaa",
   "metadata": {},
   "outputs": [],
   "source": [
    "usage = total.loc[:, ['State', 'Electricity Price (cents/kWh)', 'CO2 (lb/MWh)', \n",
    "                      'renew prod (1000MWh)', 'nonrenew prod (1000MWh)','total consumption', \n",
    "                      'num_renewable','num_nonrenewable']]"
   ]
  },
  {
   "cell_type": "code",
   "execution_count": null,
   "id": "34f46d84-01fb-4bb1-890d-2190bcea2267",
   "metadata": {},
   "outputs": [],
   "source": [
    "g = sns.pairplot(usage, diag_kind='hist', \n",
    "             kind='reg', plot_kws={'line_kws': {'color': 'cornflowerblue', 'linewidth': 2, 'alpha': 0.7}})\n",
    "\n",
    "g.fig.suptitle('Pairwise Relations between Treatment, Outcome, and Usage Confounders', size=16)\n",
    "\n",
    "g.fig.tight_layout()\n",
    "g.fig.subplots_adjust(top=0.95, left=0.1, right=0.9, bottom=0.1)\n",
    "plt.show()\n",
    "g.fig.savefig(\"../causal_inference/pairwise-usage.png\");"
   ]
  },
  {
   "cell_type": "markdown",
   "id": "c1560d32-f314-4e8b-9c5c-aed1b6187865",
   "metadata": {},
   "source": [
    "## Policy"
   ]
  },
  {
   "cell_type": "code",
   "execution_count": null,
   "id": "401748ae-d8e9-4ed3-81ec-1e79a997baec",
   "metadata": {},
   "outputs": [],
   "source": []
  }
 ],
 "metadata": {
  "kernelspec": {
   "display_name": "Python 3 (ipykernel)",
   "language": "python",
   "name": "python3"
  },
  "language_info": {
   "codemirror_mode": {
    "name": "ipython",
    "version": 3
   },
   "file_extension": ".py",
   "mimetype": "text/x-python",
   "name": "python",
   "nbconvert_exporter": "python",
   "pygments_lexer": "ipython3",
   "version": "3.11.10"
  }
 },
 "nbformat": 4,
 "nbformat_minor": 5
}
